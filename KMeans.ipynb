{
 "cells": [
  {
   "cell_type": "code",
   "execution_count": 51,
   "id": "public-ability",
   "metadata": {},
   "outputs": [],
   "source": [
    "import pandas as pd\n",
    "import numpy as np\n",
    "from sklearn.cluster import KMeans\n",
    "from collections import defaultdict\n",
    "from sklearn.model_selection import train_test_split\n",
    "from sklearn.compose import ColumnTransformer, make_column_transformer\n",
    "from sklearn.pipeline import Pipeline, make_pipeline\n",
    "from sklearn.preprocessing import OneHotEncoder, OrdinalEncoder, StandardScaler\n",
    "from sklearn.impute import SimpleImputer\n",
    "from sklearn.feature_extraction import DictVectorizer\n",
    "from sklearn.feature_extraction.text import CountVectorizer"
   ]
  },
  {
   "cell_type": "code",
   "execution_count": 56,
   "id": "unknown-layout",
   "metadata": {},
   "outputs": [],
   "source": [
    "df = pd.read_csv(\"data/processed/processed_data_30124.csv\", index_col=0)"
   ]
  },
  {
   "cell_type": "markdown",
   "id": "expressed-david",
   "metadata": {},
   "source": [
    "### 1. Split train and test"
   ]
  },
  {
   "cell_type": "code",
   "execution_count": 57,
   "id": "cooked-stress",
   "metadata": {},
   "outputs": [],
   "source": [
    "train_df, test_df = train_test_split(df, test_size = 0.2, random_state=123)"
   ]
  },
  {
   "cell_type": "markdown",
   "id": "connected-syntax",
   "metadata": {},
   "source": [
    "### 2. KMeans without text data"
   ]
  },
  {
   "cell_type": "code",
   "execution_count": 15,
   "id": "integrated-chair",
   "metadata": {},
   "outputs": [],
   "source": [
    "# try kmeans without text data\n",
    "X_train = train_df.drop(\"processed_text\", axis=1)"
   ]
  },
  {
   "cell_type": "code",
   "execution_count": 16,
   "id": "useful-welsh",
   "metadata": {},
   "outputs": [
    {
     "data": {
      "text/plain": [
       "array([[3.69649244e+01, 3.16218521e+05, 1.47357977e+05],\n",
       "       [3.84078959e+01, 3.16218521e+05, 1.47357978e+05],\n",
       "       [3.70506401e+01, 3.16219520e+05, 1.47358968e+05],\n",
       "       ...,\n",
       "       [3.96613186e+01, 3.16219520e+05, 1.47358969e+05],\n",
       "       [3.86531063e+01, 3.16219520e+05, 1.47358969e+05],\n",
       "       [3.75355958e+01, 3.16218521e+05, 1.47357977e+05]])"
      ]
     },
     "execution_count": 16,
     "metadata": {},
     "output_type": "execute_result"
    }
   ],
   "source": [
    "kmeans = KMeans(n_clusters=3, random_state=123)\n",
    "kmeans.fit_transform(X_train)"
   ]
  },
  {
   "cell_type": "code",
   "execution_count": 25,
   "id": "orange-charger",
   "metadata": {},
   "outputs": [],
   "source": [
    "cluster_dict = defaultdict(list)\n",
    "\n",
    "for i, tweet in enumerate(train_df['processed_text']):\n",
    "    cluster_dict[kmeans.labels_[i]].append(tweet)"
   ]
  },
  {
   "cell_type": "code",
   "execution_count": 33,
   "id": "tutorial-vietnamese",
   "metadata": {},
   "outputs": [
    {
     "name": "stdout",
     "output_type": "stream",
     "text": [
      "24095 2 2\n"
     ]
    }
   ],
   "source": [
    "print(len(cluster_dict[0]), len(cluster_dict[1]), len(cluster_dict[2]))"
   ]
  },
  {
   "cell_type": "markdown",
   "id": "jewish-absorption",
   "metadata": {},
   "source": [
    "### 3. KMeans with text data"
   ]
  },
  {
   "cell_type": "code",
   "execution_count": 47,
   "id": "naked-palace",
   "metadata": {},
   "outputs": [],
   "source": [
    "numeric_transformer = make_pipeline(SimpleImputer(strategy=\"median\"),\n",
    "                                    StandardScaler())"
   ]
  },
  {
   "cell_type": "code",
   "execution_count": 49,
   "id": "processed-letter",
   "metadata": {},
   "outputs": [],
   "source": [
    "numeric_features = train_df.select_dtypes(include=np.number).columns.tolist()\n",
    "text_feature = \"processed_text\""
   ]
  },
  {
   "cell_type": "code",
   "execution_count": 53,
   "id": "fifteen-gateway",
   "metadata": {},
   "outputs": [],
   "source": [
    "## BOW + vectorize text data\n",
    "\n",
    "bow_preprocessor = make_column_transformer(\n",
    "    (numeric_transformer, numeric_features),\n",
    "    (CountVectorizer(ngram_range=(1, 2), stop_words=\"english\"), text_feature) # unigram and bigram\n",
    ")\n",
    "bow_preprocessor;"
   ]
  },
  {
   "cell_type": "code",
   "execution_count": 68,
   "id": "incredible-narrative",
   "metadata": {},
   "outputs": [
    {
     "name": "stdout",
     "output_type": "stream",
     "text": [
      "(24099, 189158)\n"
     ]
    }
   ],
   "source": [
    "train_enc = bow_preprocessor.fit_transform(train_df)\n",
    "vocab = bow_preprocessor.named_transformers_['countvectorizer'].vocabulary_\n",
    "print(train_enc.shape)"
   ]
  },
  {
   "cell_type": "code",
   "execution_count": 78,
   "id": "running-moldova",
   "metadata": {},
   "outputs": [
    {
     "data": {
      "text/plain": [
       "array([[ 5.10937753,  3.47898961, 94.24012244],\n",
       "       [ 5.12707154,  3.39312831, 94.22918443],\n",
       "       [ 6.14195072,  5.1984945 , 94.31815579],\n",
       "       ...,\n",
       "       [ 6.29044091,  6.38852335, 94.30720576],\n",
       "       [ 5.60506117,  3.47051687, 94.28091021],\n",
       "       [ 8.03081624,  8.29043079, 94.40271856]])"
      ]
     },
     "execution_count": 78,
     "metadata": {},
     "output_type": "execute_result"
    }
   ],
   "source": [
    "kmeans = KMeans(n_clusters=3, random_state=123)\n",
    "kmeans.fit_transform(train_enc)"
   ]
  },
  {
   "cell_type": "code",
   "execution_count": 80,
   "id": "embedded-execution",
   "metadata": {},
   "outputs": [],
   "source": [
    "cluster_dict = defaultdict(list)\n",
    "\n",
    "for i, tweet in enumerate(train_df['processed_text']):\n",
    "    cluster_dict[kmeans.labels_[i]].append(tweet)"
   ]
  },
  {
   "cell_type": "code",
   "execution_count": 85,
   "id": "indian-repair",
   "metadata": {},
   "outputs": [
    {
     "name": "stdout",
     "output_type": "stream",
     "text": [
      "9768 14327 4\n"
     ]
    }
   ],
   "source": [
    "print(len(cluster_dict[0]), len(cluster_dict[1]), len(cluster_dict[2]))"
   ]
  },
  {
   "cell_type": "code",
   "execution_count": 87,
   "id": "labeled-daughter",
   "metadata": {},
   "outputs": [
    {
     "name": "stdout",
     "output_type": "stream",
     "text": [
      "GROUP_0:  oh noooo my government be buy sinovac also i hate it it ’ s not a trust and test a the other vaccine and it ’ s more expensive obviously the choice wa political 😡\n",
      "GROUP_1:  president of serbia aleksandar vučić say that the vaccination with the pfizer vaccine against coronavirus would start tomorrow\n",
      "GROUP_2:  with covid case surge worse than ever get vaccinate be one of the most important thing we can do but until the vaccine be widely available socially distance and wear mask will actually save even more life and alleviate the pressure on healthcare worker\n"
     ]
    }
   ],
   "source": [
    "print(\"GROUP_0: \", cluster_dict[0][2])\n",
    "print(\"GROUP_1: \", cluster_dict[1][2])\n",
    "print(\"GROUP_2: \", cluster_dict[2][2])"
   ]
  },
  {
   "cell_type": "code",
   "execution_count": null,
   "id": "eligible-laser",
   "metadata": {},
   "outputs": [],
   "source": []
  }
 ],
 "metadata": {
  "kernelspec": {
   "display_name": "Python 3",
   "language": "python",
   "name": "python3"
  },
  "language_info": {
   "codemirror_mode": {
    "name": "ipython",
    "version": 3
   },
   "file_extension": ".py",
   "mimetype": "text/x-python",
   "name": "python",
   "nbconvert_exporter": "python",
   "pygments_lexer": "ipython3",
   "version": "3.8.3"
  }
 },
 "nbformat": 4,
 "nbformat_minor": 5
}
